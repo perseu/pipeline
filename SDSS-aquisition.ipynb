{
 "cells": [
  {
   "cell_type": "code",
   "execution_count": 33,
   "id": "7fb5c1a0",
   "metadata": {},
   "outputs": [],
   "source": [
    "import numpy as np\n",
    "import pandas as pd\n",
    "from astroquery.sdss import SDSS\n",
    "from astropy.coordinates import SkyCoord  # High-level coordinates\n",
    "from astropy.coordinates import ICRS, Galactic, FK4, FK5  # Low-level frames\n",
    "from astropy.coordinates import Angle, Latitude, Longitude  # Angles\n",
    "import astropy.units as u\n"
   ]
  },
  {
   "cell_type": "code",
   "execution_count": 44,
   "id": "222e0fa9",
   "metadata": {},
   "outputs": [
    {
     "name": "stdout",
     "output_type": "stream",
     "text": [
      "<SkyCoord (FK5: equinox=J2000.000): (ra, dec) in deg\n",
      "    (1.00795833, -11.16875)>\n"
     ]
    }
   ],
   "source": [
    "RA = \"00:04:01.910\"\n",
    "DEC = \"-11:10:07.50\"\n",
    "location = RA+' '+DEC\n",
    "target=coords.SkyCoord(RA,DEC,frame=FK5, unit=(u.hourangle, u.deg))\n",
    "print(target)"
   ]
  },
  {
   "cell_type": "code",
   "execution_count": 41,
   "id": "83a5a3cd",
   "metadata": {},
   "outputs": [],
   "source": [
    "xid = SDSS.query_region(target, spectro=True)"
   ]
  },
  {
   "cell_type": "code",
   "execution_count": 42,
   "id": "93fed5d9",
   "metadata": {},
   "outputs": [
    {
     "name": "stdout",
     "output_type": "stream",
     "text": [
      "None\n"
     ]
    }
   ],
   "source": [
    "print(xid)"
   ]
  },
  {
   "cell_type": "code",
   "execution_count": 43,
   "id": "e7ca869e",
   "metadata": {},
   "outputs": [
    {
     "ename": "ValueError",
     "evalue": "Some errors were detected !\n    Line #63 (got 4 columns instead of 1)\n    Line #125 (got 2 columns instead of 1)\n    Line #126 (got 2 columns instead of 1)\n    Line #132 (got 2 columns instead of 1)\n    Line #133 (got 3 columns instead of 1)\n    Line #134 (got 2 columns instead of 1)\n    Line #136 (got 4 columns instead of 1)\n    Line #137 (got 2 columns instead of 1)\n    Line #138 (got 2 columns instead of 1)\n    Line #141 (got 2 columns instead of 1)",
     "output_type": "error",
     "traceback": [
      "\u001b[1;31m---------------------------------------------------------------------------\u001b[0m",
      "\u001b[1;31mValueError\u001b[0m                                Traceback (most recent call last)",
      "\u001b[1;32m~\\AppData\\Local\\Temp/ipykernel_10244/2065699310.py\u001b[0m in \u001b[0;36m<module>\u001b[1;34m\u001b[0m\n\u001b[1;32m----> 1\u001b[1;33m \u001b[0mim\u001b[0m \u001b[1;33m=\u001b[0m \u001b[0mSDSS\u001b[0m\u001b[1;33m.\u001b[0m\u001b[0mget_images\u001b[0m\u001b[1;33m(\u001b[0m\u001b[0mmatches\u001b[0m\u001b[1;33m=\u001b[0m\u001b[0mxid\u001b[0m\u001b[1;33m,\u001b[0m \u001b[0mband\u001b[0m\u001b[1;33m=\u001b[0m\u001b[1;34m'g'\u001b[0m\u001b[1;33m)\u001b[0m\u001b[1;33m\u001b[0m\u001b[1;33m\u001b[0m\u001b[0m\n\u001b[0m",
      "\u001b[1;32m~\\anaconda3\\envs\\spyder-env\\lib\\site-packages\\astroquery\\sdss\\core.py\u001b[0m in \u001b[0;36mget_images\u001b[1;34m(self, coordinates, radius, matches, run, rerun, camcol, field, band, timeout, cache, get_query_payload, data_release, show_progress)\u001b[0m\n\u001b[0;32m    762\u001b[0m         \"\"\"\n\u001b[0;32m    763\u001b[0m \u001b[1;33m\u001b[0m\u001b[0m\n\u001b[1;32m--> 764\u001b[1;33m         readable_objs = self.get_images_async(\n\u001b[0m\u001b[0;32m    765\u001b[0m             \u001b[0mcoordinates\u001b[0m\u001b[1;33m=\u001b[0m\u001b[0mcoordinates\u001b[0m\u001b[1;33m,\u001b[0m \u001b[0mradius\u001b[0m\u001b[1;33m=\u001b[0m\u001b[0mradius\u001b[0m\u001b[1;33m,\u001b[0m \u001b[0mmatches\u001b[0m\u001b[1;33m=\u001b[0m\u001b[0mmatches\u001b[0m\u001b[1;33m,\u001b[0m \u001b[0mrun\u001b[0m\u001b[1;33m=\u001b[0m\u001b[0mrun\u001b[0m\u001b[1;33m,\u001b[0m\u001b[1;33m\u001b[0m\u001b[1;33m\u001b[0m\u001b[0m\n\u001b[0;32m    766\u001b[0m             \u001b[0mrerun\u001b[0m\u001b[1;33m=\u001b[0m\u001b[0mrerun\u001b[0m\u001b[1;33m,\u001b[0m \u001b[0mdata_release\u001b[0m\u001b[1;33m=\u001b[0m\u001b[0mdata_release\u001b[0m\u001b[1;33m,\u001b[0m \u001b[0mcamcol\u001b[0m\u001b[1;33m=\u001b[0m\u001b[0mcamcol\u001b[0m\u001b[1;33m,\u001b[0m \u001b[0mfield\u001b[0m\u001b[1;33m=\u001b[0m\u001b[0mfield\u001b[0m\u001b[1;33m,\u001b[0m\u001b[1;33m\u001b[0m\u001b[1;33m\u001b[0m\u001b[0m\n",
      "\u001b[1;32m~\\anaconda3\\envs\\spyder-env\\lib\\site-packages\\astroquery\\sdss\\core.py\u001b[0m in \u001b[0;36mget_images_async\u001b[1;34m(self, coordinates, radius, matches, run, rerun, camcol, field, band, timeout, get_query_payload, cache, data_release, show_progress)\u001b[0m\n\u001b[0;32m    723\u001b[0m             r = self._request(\"GET\", url, params=request_payload,\n\u001b[0;32m    724\u001b[0m                               timeout=timeout, cache=cache)\n\u001b[1;32m--> 725\u001b[1;33m             \u001b[0mmatches\u001b[0m \u001b[1;33m=\u001b[0m \u001b[0mself\u001b[0m\u001b[1;33m.\u001b[0m\u001b[0m_parse_result\u001b[0m\u001b[1;33m(\u001b[0m\u001b[0mr\u001b[0m\u001b[1;33m)\u001b[0m\u001b[1;33m\u001b[0m\u001b[1;33m\u001b[0m\u001b[0m\n\u001b[0m\u001b[0;32m    726\u001b[0m             \u001b[1;32mif\u001b[0m \u001b[0mmatches\u001b[0m \u001b[1;32mis\u001b[0m \u001b[1;32mNone\u001b[0m\u001b[1;33m:\u001b[0m\u001b[1;33m\u001b[0m\u001b[1;33m\u001b[0m\u001b[0m\n\u001b[0;32m    727\u001b[0m                 \u001b[0mwarnings\u001b[0m\u001b[1;33m.\u001b[0m\u001b[0mwarn\u001b[0m\u001b[1;33m(\u001b[0m\u001b[1;34m\"Query returned no results.\"\u001b[0m\u001b[1;33m,\u001b[0m \u001b[0mNoResultsWarning\u001b[0m\u001b[1;33m)\u001b[0m\u001b[1;33m\u001b[0m\u001b[1;33m\u001b[0m\u001b[0m\n",
      "\u001b[1;32m~\\anaconda3\\envs\\spyder-env\\lib\\site-packages\\astroquery\\sdss\\core.py\u001b[0m in \u001b[0;36m_parse_result\u001b[1;34m(self, response, verbose)\u001b[0m\n\u001b[0;32m    860\u001b[0m         \u001b[1;32mif\u001b[0m \u001b[1;34m'error_message'\u001b[0m \u001b[1;32min\u001b[0m \u001b[0mio\u001b[0m\u001b[1;33m.\u001b[0m\u001b[0mBytesIO\u001b[0m\u001b[1;33m(\u001b[0m\u001b[0mresponse\u001b[0m\u001b[1;33m.\u001b[0m\u001b[0mcontent\u001b[0m\u001b[1;33m)\u001b[0m\u001b[1;33m:\u001b[0m\u001b[1;33m\u001b[0m\u001b[1;33m\u001b[0m\u001b[0m\n\u001b[0;32m    861\u001b[0m             \u001b[1;32mraise\u001b[0m \u001b[0mRemoteServiceError\u001b[0m\u001b[1;33m(\u001b[0m\u001b[0mresponse\u001b[0m\u001b[1;33m.\u001b[0m\u001b[0mcontent\u001b[0m\u001b[1;33m)\u001b[0m\u001b[1;33m\u001b[0m\u001b[1;33m\u001b[0m\u001b[0m\n\u001b[1;32m--> 862\u001b[1;33m         arr = np.atleast_1d(np.genfromtxt(io.BytesIO(response.content),\n\u001b[0m\u001b[0;32m    863\u001b[0m                                           \u001b[0mnames\u001b[0m\u001b[1;33m=\u001b[0m\u001b[1;32mTrue\u001b[0m\u001b[1;33m,\u001b[0m \u001b[0mdtype\u001b[0m\u001b[1;33m=\u001b[0m\u001b[1;32mNone\u001b[0m\u001b[1;33m,\u001b[0m\u001b[1;33m\u001b[0m\u001b[1;33m\u001b[0m\u001b[0m\n\u001b[0;32m    864\u001b[0m                                           \u001b[0mdelimiter\u001b[0m\u001b[1;33m=\u001b[0m\u001b[1;34m','\u001b[0m\u001b[1;33m,\u001b[0m \u001b[0mskip_header\u001b[0m\u001b[1;33m=\u001b[0m\u001b[1;36m1\u001b[0m\u001b[1;33m,\u001b[0m\u001b[1;33m\u001b[0m\u001b[1;33m\u001b[0m\u001b[0m\n",
      "\u001b[1;32m~\\anaconda3\\envs\\spyder-env\\lib\\site-packages\\numpy\\lib\\npyio.py\u001b[0m in \u001b[0;36mgenfromtxt\u001b[1;34m(fname, dtype, comments, delimiter, skip_header, skip_footer, converters, missing_values, filling_values, usecols, names, excludelist, deletechars, replace_space, autostrip, case_sensitive, defaultfmt, unpack, usemask, loose, invalid_raise, max_rows, encoding, like)\u001b[0m\n\u001b[0;32m   2120\u001b[0m             \u001b[1;31m# Raise an exception ?\u001b[0m\u001b[1;33m\u001b[0m\u001b[1;33m\u001b[0m\u001b[1;33m\u001b[0m\u001b[0m\n\u001b[0;32m   2121\u001b[0m             \u001b[1;32mif\u001b[0m \u001b[0minvalid_raise\u001b[0m\u001b[1;33m:\u001b[0m\u001b[1;33m\u001b[0m\u001b[1;33m\u001b[0m\u001b[0m\n\u001b[1;32m-> 2122\u001b[1;33m                 \u001b[1;32mraise\u001b[0m \u001b[0mValueError\u001b[0m\u001b[1;33m(\u001b[0m\u001b[0merrmsg\u001b[0m\u001b[1;33m)\u001b[0m\u001b[1;33m\u001b[0m\u001b[1;33m\u001b[0m\u001b[0m\n\u001b[0m\u001b[0;32m   2123\u001b[0m             \u001b[1;31m# Issue a warning ?\u001b[0m\u001b[1;33m\u001b[0m\u001b[1;33m\u001b[0m\u001b[1;33m\u001b[0m\u001b[0m\n\u001b[0;32m   2124\u001b[0m             \u001b[1;32melse\u001b[0m\u001b[1;33m:\u001b[0m\u001b[1;33m\u001b[0m\u001b[1;33m\u001b[0m\u001b[0m\n",
      "\u001b[1;31mValueError\u001b[0m: Some errors were detected !\n    Line #63 (got 4 columns instead of 1)\n    Line #125 (got 2 columns instead of 1)\n    Line #126 (got 2 columns instead of 1)\n    Line #132 (got 2 columns instead of 1)\n    Line #133 (got 3 columns instead of 1)\n    Line #134 (got 2 columns instead of 1)\n    Line #136 (got 4 columns instead of 1)\n    Line #137 (got 2 columns instead of 1)\n    Line #138 (got 2 columns instead of 1)\n    Line #141 (got 2 columns instead of 1)"
     ]
    }
   ],
   "source": [
    "im = SDSS.get_images(matches=xid, band='g')"
   ]
  },
  {
   "cell_type": "code",
   "execution_count": 18,
   "id": "45cddbcf",
   "metadata": {},
   "outputs": [
    {
     "name": "stdout",
     "output_type": "stream",
     "text": [
      "[[<astropy.io.fits.hdu.image.PrimaryHDU object at 0x000002E52B98A640>, <astropy.io.fits.hdu.image.ImageHDU object at 0x000002E52BEE6460>, <astropy.io.fits.hdu.table.BinTableHDU object at 0x000002E52BED17C0>, <astropy.io.fits.hdu.table.BinTableHDU object at 0x000002E52B98E640>]]\n"
     ]
    }
   ],
   "source": [
    "print(im)"
   ]
  },
  {
   "cell_type": "code",
   "execution_count": 24,
   "id": "a0396d61",
   "metadata": {},
   "outputs": [],
   "source": [
    "from astropy.io.fits import HDUList"
   ]
  },
  {
   "cell_type": "code",
   "execution_count": 25,
   "id": "c6bc4607",
   "metadata": {},
   "outputs": [
    {
     "ename": "TypeError",
     "evalue": "Element 0 in the HDUList input is not an HDU.",
     "output_type": "error",
     "traceback": [
      "\u001b[1;31m---------------------------------------------------------------------------\u001b[0m",
      "\u001b[1;31mTypeError\u001b[0m                                 Traceback (most recent call last)",
      "\u001b[1;32m~\\AppData\\Local\\Temp/ipykernel_10244/2487516942.py\u001b[0m in \u001b[0;36m<module>\u001b[1;34m\u001b[0m\n\u001b[1;32m----> 1\u001b[1;33m \u001b[0mHDUList\u001b[0m\u001b[1;33m(\u001b[0m\u001b[0mim\u001b[0m\u001b[1;33m)\u001b[0m\u001b[1;33m\u001b[0m\u001b[1;33m\u001b[0m\u001b[0m\n\u001b[0m",
      "\u001b[1;32m~\\anaconda3\\envs\\spyder-env\\lib\\site-packages\\astropy\\io\\fits\\hdu\\hdulist.py\u001b[0m in \u001b[0;36m__init__\u001b[1;34m(self, hdus, file)\u001b[0m\n\u001b[0;32m    234\u001b[0m         \u001b[1;32mfor\u001b[0m \u001b[0midx\u001b[0m\u001b[1;33m,\u001b[0m \u001b[0mhdu\u001b[0m \u001b[1;32min\u001b[0m \u001b[0menumerate\u001b[0m\u001b[1;33m(\u001b[0m\u001b[0mhdus\u001b[0m\u001b[1;33m)\u001b[0m\u001b[1;33m:\u001b[0m\u001b[1;33m\u001b[0m\u001b[1;33m\u001b[0m\u001b[0m\n\u001b[0;32m    235\u001b[0m             \u001b[1;32mif\u001b[0m \u001b[1;32mnot\u001b[0m \u001b[0misinstance\u001b[0m\u001b[1;33m(\u001b[0m\u001b[0mhdu\u001b[0m\u001b[1;33m,\u001b[0m \u001b[0m_BaseHDU\u001b[0m\u001b[1;33m)\u001b[0m\u001b[1;33m:\u001b[0m\u001b[1;33m\u001b[0m\u001b[1;33m\u001b[0m\u001b[0m\n\u001b[1;32m--> 236\u001b[1;33m                 \u001b[1;32mraise\u001b[0m \u001b[0mTypeError\u001b[0m\u001b[1;33m(\u001b[0m\u001b[1;34mf\"Element {idx} in the HDUList input is not an HDU.\"\u001b[0m\u001b[1;33m)\u001b[0m\u001b[1;33m\u001b[0m\u001b[1;33m\u001b[0m\u001b[0m\n\u001b[0m\u001b[0;32m    237\u001b[0m \u001b[1;33m\u001b[0m\u001b[0m\n\u001b[0;32m    238\u001b[0m         \u001b[0msuper\u001b[0m\u001b[1;33m(\u001b[0m\u001b[1;33m)\u001b[0m\u001b[1;33m.\u001b[0m\u001b[0m__init__\u001b[0m\u001b[1;33m(\u001b[0m\u001b[0mhdus\u001b[0m\u001b[1;33m)\u001b[0m\u001b[1;33m\u001b[0m\u001b[1;33m\u001b[0m\u001b[0m\n",
      "\u001b[1;31mTypeError\u001b[0m: Element 0 in the HDUList input is not an HDU."
     ]
    }
   ],
   "source": []
  },
  {
   "cell_type": "code",
   "execution_count": null,
   "id": "b561a4d9",
   "metadata": {},
   "outputs": [],
   "source": []
  }
 ],
 "metadata": {
  "kernelspec": {
   "display_name": "Python 3 (ipykernel)",
   "language": "python",
   "name": "python3"
  },
  "language_info": {
   "codemirror_mode": {
    "name": "ipython",
    "version": 3
   },
   "file_extension": ".py",
   "mimetype": "text/x-python",
   "name": "python",
   "nbconvert_exporter": "python",
   "pygments_lexer": "ipython3",
   "version": "3.9.6"
  }
 },
 "nbformat": 4,
 "nbformat_minor": 5
}
